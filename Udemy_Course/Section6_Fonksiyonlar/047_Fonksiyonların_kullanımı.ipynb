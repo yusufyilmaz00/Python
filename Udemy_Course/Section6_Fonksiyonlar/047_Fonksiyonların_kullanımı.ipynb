{
 "cells": [
  {
   "cell_type": "code",
   "execution_count": 2,
   "id": "de08a4db",
   "metadata": {},
   "outputs": [],
   "source": [
    "def selamla():\n",
    "    print(\"Merhaba...\")\n",
    "    print(\"Nasılsınız? \")"
   ]
  },
  {
   "cell_type": "code",
   "execution_count": 3,
   "id": "ccfa4f35",
   "metadata": {},
   "outputs": [
    {
     "data": {
      "text/plain": [
       "function"
      ]
     },
     "execution_count": 3,
     "metadata": {},
     "output_type": "execute_result"
    }
   ],
   "source": [
    "type(selamla)"
   ]
  },
  {
   "cell_type": "code",
   "execution_count": 4,
   "id": "e5d851b7",
   "metadata": {},
   "outputs": [
    {
     "name": "stdout",
     "output_type": "stream",
     "text": [
      "Merhaba...\n",
      "Nasılsınız? \n"
     ]
    }
   ],
   "source": [
    "selamla()\n"
   ]
  },
  {
   "cell_type": "code",
   "execution_count": 8,
   "id": "d96a0bb6",
   "metadata": {},
   "outputs": [],
   "source": [
    "def selamla(isim):\n",
    "    print(\"İsminiz: \",isim)\n"
   ]
  },
  {
   "cell_type": "code",
   "execution_count": 9,
   "id": "e0c3a8ab",
   "metadata": {},
   "outputs": [
    {
     "name": "stdout",
     "output_type": "stream",
     "text": [
      "İsminiz:  Yusuf\n"
     ]
    }
   ],
   "source": [
    "selamla(\"Yusuf\")"
   ]
  },
  {
   "cell_type": "code",
   "execution_count": 10,
   "id": "8c700698",
   "metadata": {},
   "outputs": [
    {
     "name": "stdout",
     "output_type": "stream",
     "text": [
      "İsminiz:  2\n"
     ]
    }
   ],
   "source": [
    "selamla(2)"
   ]
  },
  {
   "cell_type": "code",
   "execution_count": 11,
   "id": "ff6abd61",
   "metadata": {},
   "outputs": [],
   "source": [
    "def toplama(a,b,c):\n",
    "    toplam= a+b+c\n",
    "    print(\"Sayıların toplamları: \",toplam)"
   ]
  },
  {
   "cell_type": "code",
   "execution_count": 12,
   "id": "05e64e57",
   "metadata": {},
   "outputs": [
    {
     "name": "stdout",
     "output_type": "stream",
     "text": [
      "Sayıların toplamları:  18\n"
     ]
    }
   ],
   "source": [
    "toplama(5,6,7)"
   ]
  },
  {
   "cell_type": "code",
   "execution_count": 13,
   "id": "1917b0d5",
   "metadata": {},
   "outputs": [],
   "source": [
    "def faktoriyel(sayı):\n",
    "    faktoriyel= 1\n",
    "    for i in range(sayı):\n",
    "        i+= 1\n",
    "        faktoriyel *= i\n",
    "    print(\"{}'nin faktöriyeli: {}\".format(sayı,faktoriyel))"
   ]
  },
  {
   "cell_type": "code",
   "execution_count": 14,
   "id": "fadc014d",
   "metadata": {},
   "outputs": [
    {
     "name": "stdout",
     "output_type": "stream",
     "text": [
      "5'nin faktöriyeli: 120\n"
     ]
    }
   ],
   "source": [
    "faktoriyel(5)"
   ]
  }
 ],
 "metadata": {
  "kernelspec": {
   "display_name": "Python 3 (ipykernel)",
   "language": "python",
   "name": "python3"
  },
  "language_info": {
   "codemirror_mode": {
    "name": "ipython",
    "version": 3
   },
   "file_extension": ".py",
   "mimetype": "text/x-python",
   "name": "python",
   "nbconvert_exporter": "python",
   "pygments_lexer": "ipython3",
   "version": "3.9.12"
  }
 },
 "nbformat": 4,
 "nbformat_minor": 5
}
