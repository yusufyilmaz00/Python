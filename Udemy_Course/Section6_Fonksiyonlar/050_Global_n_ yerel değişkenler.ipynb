{
 "cells": [
  {
   "cell_type": "code",
   "execution_count": 2,
   "id": "05462f13",
   "metadata": {},
   "outputs": [
    {
     "name": "stdout",
     "output_type": "stream",
     "text": [
      "10\n"
     ]
    },
    {
     "ename": "NameError",
     "evalue": "name 'a' is not defined",
     "output_type": "error",
     "traceback": [
      "\u001b[1;31m---------------------------------------------------------------------------\u001b[0m",
      "\u001b[1;31mNameError\u001b[0m                                 Traceback (most recent call last)",
      "Input \u001b[1;32mIn [2]\u001b[0m, in \u001b[0;36m<cell line: 5>\u001b[1;34m()\u001b[0m\n\u001b[0;32m      3\u001b[0m     \u001b[38;5;28mprint\u001b[39m(a)\n\u001b[0;32m      4\u001b[0m fonki()  \u001b[38;5;66;03m# a değişkeni oluşturuldu ve ekrana bastırıldı. Fonksiyon çalışması bitince değişken silindi.\u001b[39;00m\n\u001b[1;32m----> 5\u001b[0m \u001b[38;5;28mprint\u001b[39m(\u001b[43ma\u001b[49m)\n",
      "\u001b[1;31mNameError\u001b[0m: name 'a' is not defined"
     ]
    }
   ],
   "source": [
    "def fonki():\n",
    "    a = 10\n",
    "    print(a)\n",
    "fonki()  # a değişkeni oluşturuldu ve ekrana bastırıldı. Fonksiyon çalışması bitince değişken silindi.\n",
    "print(a) # a hafızadan silindiği için hata verdi. ( Yerel değişken olduğu için -geçici-)"
   ]
  },
  {
   "cell_type": "code",
   "execution_count": 3,
   "id": "613e7079",
   "metadata": {},
   "outputs": [
    {
     "name": "stdout",
     "output_type": "stream",
     "text": [
      "5\n"
     ]
    }
   ],
   "source": [
    "b = 5 # b değişkeni kalıcı hafızaya kaydedildiği için b değeri hatasız bastırılcak. ( Global değişken oldu)\n",
    "def fonksiyon():\n",
    "    print(b)\n",
    "fonksiyon() "
   ]
  },
  {
   "cell_type": "code",
   "execution_count": 16,
   "id": "23a9cfa6",
   "metadata": {},
   "outputs": [
    {
     "name": "stdout",
     "output_type": "stream",
     "text": [
      "farklı\n"
     ]
    }
   ],
   "source": [
    "\n",
    "def fonksiyon():\n",
    "    s=\"farklı\"\n",
    "    print(s)\n",
    "\n",
    "s = \"Yusuf\"\n",
    "\n",
    "fonksiyon()\n",
    "# fonksiyon burada yerel hafızada \"s\" değişkenini arar ve bastırır.\n",
    "# yoksa global hafızada \"s\" değişkenini arar."
   ]
  },
  {
   "cell_type": "code",
   "execution_count": 17,
   "id": "9923f44f",
   "metadata": {},
   "outputs": [
    {
     "name": "stdout",
     "output_type": "stream",
     "text": [
      "2\n",
      "10\n"
     ]
    }
   ],
   "source": [
    "c = 10\n",
    "def fon():\n",
    "    c = 2\n",
    "    print(c)\n",
    "fon()\n",
    "print(c)\n",
    "\n",
    "# fonksiyon burada yerel hafızada \"c\" değişkenini arar ve bastırır.\n"
   ]
  },
  {
   "cell_type": "code",
   "execution_count": 18,
   "id": "95ddc27c",
   "metadata": {},
   "outputs": [
    {
     "name": "stdout",
     "output_type": "stream",
     "text": [
      "3\n",
      "3\n"
     ]
    }
   ],
   "source": [
    "d = 5\n",
    "\n",
    "def fok():\n",
    "    global d   # global komutu ile Kalıcı(global) hafızadaki değişkeni kullanıyoruz.\n",
    "    d=3        # yeni atadığımız değer artık geçici değil kalıcı değişken oldu.\n",
    "    print(d)   # dolayısıyla 2 kere 3 bastırdı ( artık global değeri 3)\n",
    "fok()          # ama fonksiyonlar içinde global değerlerde değişiklik yapmak kullanışlı değil\n",
    "print(d)       "
   ]
  },
  {
   "cell_type": "code",
   "execution_count": 21,
   "id": "d2c187c8",
   "metadata": {},
   "outputs": [
    {
     "name": "stdout",
     "output_type": "stream",
     "text": [
      "10\n",
      "10\n"
     ]
    }
   ],
   "source": [
    "if True:\n",
    "    i = 10\n",
    "    print(i)\n",
    "print(\"Global hafızadaki (kalıcı hafıza) değeri bastırdı.)\n",
    "\n",
    "# if ve while döngüsü içerisinde oluşturulan değerler kalıcı değişken olur\n"
   ]
  }
 ],
 "metadata": {
  "kernelspec": {
   "display_name": "Python 3 (ipykernel)",
   "language": "python",
   "name": "python3"
  },
  "language_info": {
   "codemirror_mode": {
    "name": "ipython",
    "version": 3
   },
   "file_extension": ".py",
   "mimetype": "text/x-python",
   "name": "python",
   "nbconvert_exporter": "python",
   "pygments_lexer": "ipython3",
   "version": "3.9.12"
  }
 },
 "nbformat": 4,
 "nbformat_minor": 5
}
