{
 "cells": [
  {
   "cell_type": "code",
   "execution_count": 3,
   "id": "3b9ddaeb",
   "metadata": {},
   "outputs": [],
   "source": [
    "def selamla(isim):\n",
    "    print(\"Selam \",isim)"
   ]
  },
  {
   "cell_type": "code",
   "execution_count": 4,
   "id": "dc04d449",
   "metadata": {},
   "outputs": [
    {
     "name": "stdout",
     "output_type": "stream",
     "text": [
      "Selam  Emre\n"
     ]
    }
   ],
   "source": [
    "selamla(\"Emre\")"
   ]
  },
  {
   "cell_type": "markdown",
   "id": "fcb39794",
   "metadata": {},
   "source": [
    "Selamla() nın içine eğer değişken yazılmazsa şuanda hata verir.\n",
    "Bu sebebten artık default bir veri girerek bu hatanın önüne geçeceğiz."
   ]
  },
  {
   "cell_type": "code",
   "execution_count": 5,
   "id": "19ff9a0a",
   "metadata": {},
   "outputs": [],
   "source": [
    "def selamla(isim = \"İsimsiz\"):\n",
    "    print(\"Selam \",isim)"
   ]
  },
  {
   "cell_type": "code",
   "execution_count": 6,
   "id": "d024c8d4",
   "metadata": {},
   "outputs": [
    {
     "name": "stdout",
     "output_type": "stream",
     "text": [
      "Selam  İsimsiz\n"
     ]
    }
   ],
   "source": [
    "selamla()"
   ]
  },
  {
   "cell_type": "code",
   "execution_count": 7,
   "id": "3dcda0a9",
   "metadata": {},
   "outputs": [],
   "source": [
    "def topla(a,b,c):\n",
    "    print(a+b+c)"
   ]
  },
  {
   "cell_type": "code",
   "execution_count": 8,
   "id": "d83fd535",
   "metadata": {},
   "outputs": [
    {
     "ename": "TypeError",
     "evalue": "topla() takes 3 positional arguments but 5 were given",
     "output_type": "error",
     "traceback": [
      "\u001b[1;31m---------------------------------------------------------------------------\u001b[0m",
      "\u001b[1;31mTypeError\u001b[0m                                 Traceback (most recent call last)",
      "Input \u001b[1;32mIn [8]\u001b[0m, in \u001b[0;36m<cell line: 1>\u001b[1;34m()\u001b[0m\n\u001b[1;32m----> 1\u001b[0m \u001b[43mtopla\u001b[49m\u001b[43m(\u001b[49m\u001b[38;5;241;43m4\u001b[39;49m\u001b[43m,\u001b[49m\u001b[38;5;241;43m5\u001b[39;49m\u001b[43m,\u001b[49m\u001b[38;5;241;43m6\u001b[39;49m\u001b[43m,\u001b[49m\u001b[38;5;241;43m7\u001b[39;49m\u001b[43m,\u001b[49m\u001b[38;5;241;43m8\u001b[39;49m\u001b[43m)\u001b[49m\n",
      "\u001b[1;31mTypeError\u001b[0m: topla() takes 3 positional arguments but 5 were given"
     ]
    }
   ],
   "source": [
    "topla(4,5,6,7,8)"
   ]
  },
  {
   "cell_type": "code",
   "execution_count": 9,
   "id": "5079d290",
   "metadata": {},
   "outputs": [],
   "source": [
    "def topla(*a):\n",
    "    print(a)"
   ]
  },
  {
   "cell_type": "markdown",
   "id": "54442327",
   "metadata": {},
   "source": [
    "Fonksiyonun verisinin başına * koyduğumuzda esnek veri haline getiriyoruz . Esnek veri olduğunda oraya girilen kadar değil sınırsız miktarda veri yazmamıza olanak sağlıyor . Esnek veriye matematiksel işlem yaptırmak için de for döngüsünü kullanıyoruz ."
   ]
  },
  {
   "cell_type": "code",
   "execution_count": 10,
   "id": "ab946f0a",
   "metadata": {},
   "outputs": [
    {
     "name": "stdout",
     "output_type": "stream",
     "text": [
      "(1, 2, 4, 6, 78, 8)\n"
     ]
    }
   ],
   "source": [
    "topla(1,2,4,6,78,8)"
   ]
  },
  {
   "cell_type": "code",
   "execution_count": 11,
   "id": "01d4e101",
   "metadata": {},
   "outputs": [],
   "source": [
    "def topla(*a):\n",
    "    x=0\n",
    "    for i in a:\n",
    "        x+=i\n",
    "        i+=1\n",
    "    print(x)"
   ]
  },
  {
   "cell_type": "code",
   "execution_count": 13,
   "id": "a03c93c8",
   "metadata": {},
   "outputs": [
    {
     "name": "stdout",
     "output_type": "stream",
     "text": [
      "241\n"
     ]
    }
   ],
   "source": [
    "topla(1,5,67,7,24,14,123)"
   ]
  }
 ],
 "metadata": {
  "kernelspec": {
   "display_name": "Python 3 (ipykernel)",
   "language": "python",
   "name": "python3"
  },
  "language_info": {
   "codemirror_mode": {
    "name": "ipython",
    "version": 3
   },
   "file_extension": ".py",
   "mimetype": "text/x-python",
   "name": "python",
   "nbconvert_exporter": "python",
   "pygments_lexer": "ipython3",
   "version": "3.9.12"
  }
 },
 "nbformat": 4,
 "nbformat_minor": 5
}
