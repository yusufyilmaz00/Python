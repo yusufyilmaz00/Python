{
 "cells": [
  {
   "cell_type": "markdown",
   "id": "7f874666",
   "metadata": {},
   "source": [
    "** etiketi fonksiyon ismi olarak da düşünebiliriz. Lambda tek satırda fonksiyon oluşturmamızı sağlıyor"
   ]
  },
  {
   "cell_type": "markdown",
   "id": "111b58cd",
   "metadata": {},
   "source": [
    "**  mutlaka iki nokta (:) bırakıp yapılacak işlemi yazmalıyız"
   ]
  },
  {
   "cell_type": "raw",
   "id": "af1bd5d4",
   "metadata": {},
   "source": [
    "etiket = lambda parametre1,parametre2.... : İşlem"
   ]
  },
  {
   "cell_type": "code",
   "execution_count": 1,
   "id": "6a678895",
   "metadata": {},
   "outputs": [
    {
     "name": "stdout",
     "output_type": "stream",
     "text": [
      "6\n"
     ]
    }
   ],
   "source": [
    "def ikiçarp(x):\n",
    "    return x*2\n",
    "print(ikiçarp(3))"
   ]
  },
  {
   "cell_type": "code",
   "execution_count": 2,
   "id": "f7223df7",
   "metadata": {},
   "outputs": [],
   "source": [
    "ikiyleçarp= lambda x : x*2"
   ]
  },
  {
   "cell_type": "code",
   "execution_count": 3,
   "id": "8d46b5d1",
   "metadata": {},
   "outputs": [
    {
     "name": "stdout",
     "output_type": "stream",
     "text": [
      "10\n"
     ]
    }
   ],
   "source": [
    "print(ikiyleçarp(5))"
   ]
  },
  {
   "cell_type": "code",
   "execution_count": 4,
   "id": "e138d5e3",
   "metadata": {},
   "outputs": [
    {
     "name": "stdout",
     "output_type": "stream",
     "text": [
      "15\n"
     ]
    }
   ],
   "source": [
    "def toplama(x,y,z):\n",
    "    return x+y+z\n",
    "print(toplama(5,4,6))"
   ]
  },
  {
   "cell_type": "markdown",
   "id": "84ab0140",
   "metadata": {},
   "source": [
    "Lambda kullanım şeklinde tek satırlık kısa fonksiyonlar tanımlanıyor. Uzun fonksiyonlar için kullanılmıyor."
   ]
  },
  {
   "cell_type": "code",
   "execution_count": 5,
   "id": "8c0aa0b4",
   "metadata": {},
   "outputs": [],
   "source": [
    "topla = lambda k,l,m : k+l+m"
   ]
  },
  {
   "cell_type": "code",
   "execution_count": 6,
   "id": "80a0d1cf",
   "metadata": {},
   "outputs": [
    {
     "name": "stdout",
     "output_type": "stream",
     "text": [
      "114\n"
     ]
    }
   ],
   "source": [
    "print(topla(7,8,99))"
   ]
  }
 ],
 "metadata": {
  "kernelspec": {
   "display_name": "Python 3.10.4 64-bit",
   "language": "python",
   "name": "python3"
  },
  "language_info": {
   "codemirror_mode": {
    "name": "ipython",
    "version": 3
   },
   "file_extension": ".py",
   "mimetype": "text/x-python",
   "name": "python",
   "nbconvert_exporter": "python",
   "pygments_lexer": "ipython3",
   "version": "3.10.4"
  },
  "vscode": {
   "interpreter": {
    "hash": "1f587c0eba63933e4319fa6fcc6b1a9577c0d1b9f59f9db18fe3e98985db9dde"
   }
  }
 },
 "nbformat": 4,
 "nbformat_minor": 5
}
