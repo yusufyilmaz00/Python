{
 "cells": [
  {
   "cell_type": "code",
   "execution_count": 14,
   "id": "c4d9db96",
   "metadata": {},
   "outputs": [],
   "source": [
    "def topla(a,b,c):\n",
    "    print(\"Toplamları: \",a+b+c)\n",
    "\n",
    "def ikiçarp(a):\n",
    "    print(\"2 ile çarpımı: \",a*2)"
   ]
  },
  {
   "cell_type": "code",
   "execution_count": 15,
   "id": "0d72fdde",
   "metadata": {},
   "outputs": [
    {
     "name": "stdout",
     "output_type": "stream",
     "text": [
      "Toplamları:  12\n",
      "2 ile çarpımı:  24\n"
     ]
    }
   ],
   "source": [
    "toplam= topla(3,4,5)\n",
    "ikiçarp(12)"
   ]
  },
  {
   "cell_type": "markdown",
   "id": "40b1f437",
   "metadata": {},
   "source": [
    "Return komutundan sonra bloğa yazılan satırlar çalışmaz. Break gibi"
   ]
  },
  {
   "cell_type": "code",
   "execution_count": 16,
   "id": "25f52b47",
   "metadata": {},
   "outputs": [],
   "source": [
    "def topla(a,b,c):\n",
    "    print(\"Toplamları: \",a+b+c)\n",
    "    return a+b+c\n",
    "def ikiçarp(a):\n",
    "    print(\"2 ile çarpımı: \",a*2)\n",
    "    return a*2"
   ]
  },
  {
   "cell_type": "code",
   "execution_count": 17,
   "id": "bd31836f",
   "metadata": {},
   "outputs": [
    {
     "name": "stdout",
     "output_type": "stream",
     "text": [
      "Toplamları:  12\n",
      "2 ile çarpımı:  24\n"
     ]
    },
    {
     "data": {
      "text/plain": [
       "24"
      ]
     },
     "execution_count": 17,
     "metadata": {},
     "output_type": "execute_result"
    }
   ],
   "source": [
    "toplam= topla(3,4,5)\n",
    "ikiçarp(toplam)"
   ]
  },
  {
   "cell_type": "code",
   "execution_count": 18,
   "id": "966374e1",
   "metadata": {},
   "outputs": [],
   "source": [
    "def topla(a,b,c):\n",
    "    return a+b+c\n",
    "def ikiçarp(a):\n",
    "    return a*2"
   ]
  },
  {
   "cell_type": "code",
   "execution_count": 19,
   "id": "39f6e44c",
   "metadata": {},
   "outputs": [
    {
     "data": {
      "text/plain": [
       "24"
      ]
     },
     "execution_count": 19,
     "metadata": {},
     "output_type": "execute_result"
    }
   ],
   "source": [
    "toplam= topla(3,4,5)\n",
    "ikiçarp(toplam)\n"
   ]
  }
 ],
 "metadata": {
  "kernelspec": {
   "display_name": "Python 3 (ipykernel)",
   "language": "python",
   "name": "python3"
  },
  "language_info": {
   "codemirror_mode": {
    "name": "ipython",
    "version": 3
   },
   "file_extension": ".py",
   "mimetype": "text/x-python",
   "name": "python",
   "nbconvert_exporter": "python",
   "pygments_lexer": "ipython3",
   "version": "3.9.12"
  }
 },
 "nbformat": 4,
 "nbformat_minor": 5
}
