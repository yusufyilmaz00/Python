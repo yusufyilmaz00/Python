{
 "cells": [
  {
   "cell_type": "code",
   "execution_count": 1,
   "id": "03ad8051",
   "metadata": {},
   "outputs": [
    {
     "name": "stdout",
     "output_type": "stream",
     "text": [
      "[1, 2, 3, 4, 5]\n"
     ]
    }
   ],
   "source": [
    "liste1 = [1,2,3,4,5]\n",
    "\n",
    "liste2 = list()\n",
    "\n",
    "for i in liste1:\n",
    "    liste2.append(i)\n",
    "print(liste2)"
   ]
  },
  {
   "cell_type": "code",
   "execution_count": 2,
   "id": "18b0ad36",
   "metadata": {},
   "outputs": [
    {
     "name": "stdout",
     "output_type": "stream",
     "text": [
      "[1, 2, 3, 5, 6]\n"
     ]
    }
   ],
   "source": [
    "liste3= [1,2,3,5,6]\n",
    "\n",
    "liste4= [x for x in liste3]\n",
    "print(liste4)"
   ]
  },
  {
   "cell_type": "code",
   "execution_count": 3,
   "id": "c81439e8",
   "metadata": {
    "scrolled": true
   },
   "outputs": [
    {
     "name": "stdout",
     "output_type": "stream",
     "text": [
      "[2, 4, 26, 14, 18, 6, 10, 12]\n"
     ]
    }
   ],
   "source": [
    "liste3= [1,2,13,7,9,3,5,6]\n",
    "\n",
    "liste4= [x*2 for x in liste3]\n",
    "print(liste4)"
   ]
  },
  {
   "cell_type": "code",
   "execution_count": 4,
   "id": "510bf821",
   "metadata": {},
   "outputs": [
    {
     "name": "stdout",
     "output_type": "stream",
     "text": [
      "[2, 12, 30]\n"
     ]
    }
   ],
   "source": [
    "listex= [(1,2),(3,4),(5,6)]\n",
    "lize = [i*j for i,j in listex]\n",
    "print(lize)"
   ]
  },
  {
   "cell_type": "code",
   "execution_count": 5,
   "id": "2d49a9a8",
   "metadata": {},
   "outputs": [
    {
     "name": "stdout",
     "output_type": "stream",
     "text": [
      "['PPP', 'yyy', 'ttt', 'hhh', 'ooo', 'nnn']\n"
     ]
    }
   ],
   "source": [
    "s = \"Python\"\n",
    "a = [i*3 for i in s]\n",
    "print(a)"
   ]
  },
  {
   "cell_type": "code",
   "execution_count": 6,
   "id": "13c9d80f",
   "metadata": {},
   "outputs": [
    {
     "name": "stdout",
     "output_type": "stream",
     "text": [
      "[1, 2, 3, 4, 5, 6, 7, 9, 10, 11, 12, 13, 14, 15]\n"
     ]
    }
   ],
   "source": [
    "listttee = [(1,2,3),(4,5,6,7),(9,10,11,12,13,14,15)]\n",
    "liste1=list()\n",
    "for i in listttee:\n",
    "    for i in i:\n",
    "        liste1.append(i)\n",
    "print(liste1)"
   ]
  },
  {
   "cell_type": "code",
   "execution_count": 7,
   "id": "a01e74aa",
   "metadata": {},
   "outputs": [
    {
     "name": "stdout",
     "output_type": "stream",
     "text": [
      "[1, 2, 3, 4, 5, 6, 7, 9, 10, 11, 12, 13, 14, 15]\n"
     ]
    }
   ],
   "source": [
    "lirik = [(1,2,3),(4,5,6,7),(9,10,11,12,13,14,15)]\n",
    "poli = [j for i in lirik for j in i]\n",
    "#baştaki j ile en son j aynı terim olmak zorunda\n",
    "print(poli)\n",
    "#i'ler yeni bir liste haline geliyor ve böylece x birde\n",
    "#onların üzerindedönüyor."
   ]
  }
 ],
 "metadata": {
  "kernelspec": {
   "display_name": "Python 3 (ipykernel)",
   "language": "python",
   "name": "python3"
  },
  "language_info": {
   "codemirror_mode": {
    "name": "ipython",
    "version": 3
   },
   "file_extension": ".py",
   "mimetype": "text/x-python",
   "name": "python",
   "nbconvert_exporter": "python",
   "pygments_lexer": "ipython3",
   "version": "3.9.12"
  }
 },
 "nbformat": 4,
 "nbformat_minor": 5
}
