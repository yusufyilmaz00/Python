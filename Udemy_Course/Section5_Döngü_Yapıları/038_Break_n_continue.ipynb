{
 "cells": [
  {
   "cell_type": "code",
   "execution_count": 1,
   "id": "d2ca4733",
   "metadata": {},
   "outputs": [
    {
     "name": "stdout",
     "output_type": "stream",
     "text": [
      "0\n",
      "1\n",
      "2\n",
      "3\n",
      "4\n",
      "5\n",
      "6\n",
      "7\n",
      "8\n"
     ]
    }
   ],
   "source": [
    "i = 0\n",
    "while (i<13):\n",
    "\n",
    "    print(i)\n",
    "    i += 1\n",
    "    if i> 8:\n",
    "        break"
   ]
  },
  {
   "cell_type": "code",
   "execution_count": 2,
   "id": "a5b18f3f",
   "metadata": {},
   "outputs": [
    {
     "name": "stdout",
     "output_type": "stream",
     "text": [
      "0\n",
      "1\n",
      "2\n",
      "3\n",
      "4\n",
      "5\n",
      "6\n",
      "7\n"
     ]
    }
   ],
   "source": [
    "for i in range(11):\n",
    "    print(i)\n",
    "    if i == 7:\n",
    "        break"
   ]
  },
  {
   "cell_type": "code",
   "execution_count": 3,
   "id": "26890e42",
   "metadata": {},
   "outputs": [
    {
     "name": "stdout",
     "output_type": "stream",
     "text": [
      "İsim(Çıkmak için q'ya basınız):q\n",
      "Programdan çıkılıyor...\n"
     ]
    }
   ],
   "source": [
    "while True:\n",
    "    isim = input(\"İsim(Çıkmak için q'ya basınız):\")\n",
    "    if (isim == \"q\"):\n",
    "        print(\"Programdan çıkılıyor...\")\n",
    "        break\n",
    "    print(\"İsminiz: \",isim)"
   ]
  },
  {
   "cell_type": "code",
   "execution_count": 4,
   "id": "c25c1b23",
   "metadata": {},
   "outputs": [
    {
     "name": "stdout",
     "output_type": "stream",
     "text": [
      "[0, 1, 2, 3, 4, 5, 6, 7, 8, 9, 10, 11]\n"
     ]
    }
   ],
   "source": [
    "liste = list(range(12))\n",
    "print(liste)"
   ]
  },
  {
   "cell_type": "code",
   "execution_count": 5,
   "id": "92dbfd49",
   "metadata": {},
   "outputs": [
    {
     "name": "stdout",
     "output_type": "stream",
     "text": [
      "İ:  0\n",
      "İ:  1\n",
      "İ:  2\n",
      "İ:  4\n",
      "İ:  6\n",
      "İ:  7\n",
      "İ:  8\n",
      "İ:  9\n",
      "İ:  10\n",
      "İ:  11\n"
     ]
    }
   ],
   "source": [
    "for i in liste:\n",
    "    if (i ==3) or (i==5):\n",
    "        continue\n",
    "    print(\"İ: \",i)"
   ]
  },
  {
   "cell_type": "code",
   "execution_count": 7,
   "id": "7e1e0fe8",
   "metadata": {},
   "outputs": [
    {
     "name": "stdout",
     "output_type": "stream",
     "text": [
      "[0, 1, 2, 3, 4, 5, 6, 7, 8, 9, 10, 11, 12, 13, 14, 15, 16, 17, 18, 19, 20, 21, 22, 23, 24, 25, 26, 27, 28, 29, 30, 31, 32, 33, 34, 35, 36, 37, 38, 39, 40, 41, 42, 43, 44, 45, 46, 47, 48, 49, 50, 51, 52, 53, 54, 55, 56, 57, 58, 59, 60, 61, 62, 63, 64, 65, 66, 67, 68, 69, 70, 71, 72, 73, 74, 75, 76, 77, 78, 79, 80, 81, 82, 83, 84, 85, 86, 87, 88, 89, 90, 91, 92, 93, 94, 95, 96, 97, 98, 99, 100]\n"
     ]
    }
   ],
   "source": [
    "liste = list(range(101))\n",
    "print(liste)"
   ]
  },
  {
   "cell_type": "code",
   "execution_count": 8,
   "id": "e4ac2a44",
   "metadata": {},
   "outputs": [
    {
     "name": "stdout",
     "output_type": "stream",
     "text": [
      "3'ün katları:  0\n",
      "3'ün katları:  3\n",
      "3'ün katları:  6\n",
      "3'ün katları:  9\n",
      "3'ün katları:  12\n",
      "3'ün katları:  15\n",
      "3'ün katları:  18\n",
      "3'ün katları:  21\n",
      "3'ün katları:  24\n",
      "3'ün katları:  27\n",
      "3'ün katları:  30\n",
      "3'ün katları:  33\n",
      "3'ün katları:  36\n",
      "3'ün katları:  39\n",
      "3'ün katları:  42\n",
      "3'ün katları:  45\n",
      "3'ün katları:  48\n",
      "3'ün katları:  51\n",
      "3'ün katları:  54\n",
      "3'ün katları:  57\n",
      "3'ün katları:  60\n",
      "3'ün katları:  63\n",
      "3'ün katları:  66\n",
      "3'ün katları:  69\n",
      "3'ün katları:  72\n",
      "3'ün katları:  75\n",
      "3'ün katları:  78\n",
      "3'ün katları:  81\n",
      "3'ün katları:  84\n",
      "3'ün katları:  87\n",
      "3'ün katları:  90\n",
      "3'ün katları:  93\n",
      "3'ün katları:  96\n",
      "3'ün katları:  99\n"
     ]
    }
   ],
   "source": [
    "for i in liste:\n",
    "    if i%3==0:\n",
    "        print(\"3'ün katları: \",i)\n",
    "        "
   ]
  },
  {
   "cell_type": "code",
   "execution_count": 22,
   "id": "0a2c669f",
   "metadata": {},
   "outputs": [],
   "source": [
    "# For-While döngüleri\n",
    "# Range ve List modüllerii\n",
    "#continue ve break komutları"
   ]
  },
  {
   "cell_type": "code",
   "execution_count": 9,
   "id": "ebfaa061",
   "metadata": {},
   "outputs": [
    {
     "name": "stdout",
     "output_type": "stream",
     "text": [
      "Girdiğiniz sayıya kadar olan tüm çift sayılar toplanacaktır: 14\n",
      "42\n"
     ]
    }
   ],
   "source": [
    "a = int(input(\"Girdiğiniz sayıya kadar olan tüm çift sayılar toplanacaktır: \"))\n",
    "xx= list(range(1,a))\n",
    "top= 0\n",
    "for i in xx:\n",
    "    if i%2== 0:\n",
    "        top += i\n",
    "print(top)\n",
    "    "
   ]
  },
  {
   "cell_type": "code",
   "execution_count": 10,
   "id": "f4c83408",
   "metadata": {},
   "outputs": [
    {
     "name": "stdout",
     "output_type": "stream",
     "text": [
      "Girdiğiniz sayıya kadar olan tüm çift sayılar toplanacaktır: 5\n",
      "İşlem Sonucu:  6\n"
     ]
    }
   ],
   "source": [
    "a = int(input(\"Girdiğiniz sayıya kadar olan tüm çift sayılar toplanacaktır: \"))\n",
    "i = 0\n",
    "total = 0\n",
    "while (i<(a)):\n",
    "    if i%2==0:\n",
    "        total += i\n",
    "    i +=1\n",
    "print(\"İşlem Sonucu: \",total)\n",
    "    \n",
    "\n",
    "    "
   ]
  }
 ],
 "metadata": {
  "kernelspec": {
   "display_name": "Python 3 (ipykernel)",
   "language": "python",
   "name": "python3"
  },
  "language_info": {
   "codemirror_mode": {
    "name": "ipython",
    "version": 3
   },
   "file_extension": ".py",
   "mimetype": "text/x-python",
   "name": "python",
   "nbconvert_exporter": "python",
   "pygments_lexer": "ipython3",
   "version": "3.9.12"
  }
 },
 "nbformat": 4,
 "nbformat_minor": 5
}
