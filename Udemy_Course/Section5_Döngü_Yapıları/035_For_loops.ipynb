{
 "cells": [
  {
   "cell_type": "code",
   "execution_count": 1,
   "id": "5baeebc6",
   "metadata": {},
   "outputs": [
    {
     "data": {
      "text/plain": [
       "True"
      ]
     },
     "execution_count": 1,
     "metadata": {},
     "output_type": "execute_result"
    }
   ],
   "source": [
    "\"a\" in \"adem\""
   ]
  },
  {
   "cell_type": "code",
   "execution_count": 2,
   "id": "eaf663a8",
   "metadata": {},
   "outputs": [
    {
     "name": "stdout",
     "output_type": "stream",
     "text": [
      "1\n",
      "2\n",
      "3\n",
      "4\n",
      "5\n",
      "6\n",
      "7\n"
     ]
    }
   ],
   "source": [
    "liste = [1,2,3,4,5,6,7]\n",
    "\n",
    "for eleman in liste:\n",
    "    print(eleman)"
   ]
  },
  {
   "cell_type": "code",
   "execution_count": 3,
   "id": "f3a8f696",
   "metadata": {},
   "outputs": [
    {
     "name": "stdout",
     "output_type": "stream",
     "text": [
      "1\n",
      "2\n",
      "3\n",
      "4\n",
      "5\n"
     ]
    }
   ],
   "source": [
    "lis = [1,2,3,4,5]\n",
    "for i in lis:\n",
    "    print(i)"
   ]
  },
  {
   "cell_type": "code",
   "execution_count": 4,
   "id": "383e2bba",
   "metadata": {},
   "outputs": [
    {
     "name": "stdout",
     "output_type": "stream",
     "text": [
      "1\n",
      "2\n",
      "3\n",
      "4\n",
      "5\n",
      "6\n",
      "7\n"
     ]
    }
   ],
   "source": [
    "lis = [1,2,3,4,5,6,7]\n",
    "for elem in lis:\n",
    "    print(elem)"
   ]
  },
  {
   "cell_type": "code",
   "execution_count": 5,
   "id": "6cdf8602",
   "metadata": {},
   "outputs": [
    {
     "name": "stdout",
     "output_type": "stream",
     "text": [
      "1\n",
      "2\n",
      "3\n",
      "4\n",
      "5\n",
      "6\n",
      "7\n"
     ]
    }
   ],
   "source": [
    "liste = [1,2,3,4,5,6,7]\n",
    "\n",
    "for ela in liste:\n",
    "    print(ela)"
   ]
  },
  {
   "cell_type": "code",
   "execution_count": 6,
   "id": "3f72137f",
   "metadata": {},
   "outputs": [
    {
     "name": "stdout",
     "output_type": "stream",
     "text": [
      "1\n",
      "3\n",
      "6\n",
      "10\n",
      "15\n"
     ]
    }
   ],
   "source": [
    "total = 0\n",
    "list=(1,2,3,4,5)\n",
    "for i in list:\n",
    "    total= total +i\n",
    "    print(total)\n"
   ]
  },
  {
   "cell_type": "code",
   "execution_count": 7,
   "id": "e9b9c749",
   "metadata": {},
   "outputs": [
    {
     "name": "stdout",
     "output_type": "stream",
     "text": [
      "288\n",
      "964\n",
      "28\n",
      "86\n"
     ]
    }
   ],
   "source": [
    "list= (1,5,17,345,288,964,28,75,86)\n",
    "for x in list:\n",
    "    sayı= x%2\n",
    "    if sayı==0:\n",
    "        print(x)"
   ]
  },
  {
   "cell_type": "code",
   "execution_count": 8,
   "id": "f7089e28",
   "metadata": {},
   "outputs": [
    {
     "name": "stdout",
     "output_type": "stream",
     "text": [
      "288\n",
      "964\n",
      "28\n",
      "86\n"
     ]
    }
   ],
   "source": [
    "list= (1,5,17,345,288,964,28,75,86)\n",
    "for x in list:\n",
    "    if x%2==0:\n",
    "        print(x)"
   ]
  },
  {
   "cell_type": "code",
   "execution_count": 9,
   "id": "1a04578e",
   "metadata": {},
   "outputs": [],
   "source": [
    "ik = \"Muhammed\""
   ]
  },
  {
   "cell_type": "code",
   "execution_count": 10,
   "id": "9002052e",
   "metadata": {},
   "outputs": [
    {
     "name": "stdout",
     "output_type": "stream",
     "text": [
      "MMMMMMMMMMMMMMMMMMMMMMMMMMMMMMM\n",
      "uuuuuuuuuuuuuuuuuuuuuuuuuuuuuuu\n",
      "hhhhhhhhhhhhhhhhhhhhhhhhhhhhhhh\n",
      "aaaaaaaaaaaaaaaaaaaaaaaaaaaaaaa\n",
      "mmmmmmmmmmmmmmmmmmmmmmmmmmmmmmm\n",
      "mmmmmmmmmmmmmmmmmmmmmmmmmmmmmmm\n",
      "eeeeeeeeeeeeeeeeeeeeeeeeeeeeeee\n",
      "ddddddddddddddddddddddddddddddd\n"
     ]
    }
   ],
   "source": [
    "ik = \"Muhammed\"\n",
    "for i in ik:\n",
    "    print(i*31)"
   ]
  },
  {
   "cell_type": "code",
   "execution_count": 11,
   "id": "fbdcc351",
   "metadata": {},
   "outputs": [
    {
     "name": "stdout",
     "output_type": "stream",
     "text": [
      "(1, 2)\n",
      "(3, 4)\n",
      "(5, 6)\n",
      "(7, 8)\n"
     ]
    }
   ],
   "source": [
    "liste = [(1,2),(3,4),(5,6),(7,8)]\n",
    "for a in liste:\n",
    "    print(a)\n",
    "    "
   ]
  },
  {
   "cell_type": "code",
   "execution_count": 12,
   "id": "6c45dbbb",
   "metadata": {},
   "outputs": [
    {
     "name": "stdout",
     "output_type": "stream",
     "text": [
      "s: 1  j: 2  k:8\n",
      "s: 3  j: 4  k:8\n",
      "s: 5  j: 6  k:8\n",
      "s: 7  j: 8  k:8\n"
     ]
    }
   ],
   "source": [
    "liste = [(1,2,8),(3,4,8),(5,6,8),(7,8,8)]\n",
    "for (s,j,k) in liste:\n",
    "    print(\"s: {}  j: {}  k:{}\".format(s,j,k) )"
   ]
  }
 ],
 "metadata": {
  "kernelspec": {
   "display_name": "Python 3 (ipykernel)",
   "language": "python",
   "name": "python3"
  },
  "language_info": {
   "codemirror_mode": {
    "name": "ipython",
    "version": 3
   },
   "file_extension": ".py",
   "mimetype": "text/x-python",
   "name": "python",
   "nbconvert_exporter": "python",
   "pygments_lexer": "ipython3",
   "version": "3.9.12"
  }
 },
 "nbformat": 4,
 "nbformat_minor": 5
}
