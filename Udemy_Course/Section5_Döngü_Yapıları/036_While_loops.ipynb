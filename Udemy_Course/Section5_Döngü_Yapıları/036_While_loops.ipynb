{
 "cells": [
  {
   "cell_type": "code",
   "execution_count": 7,
   "id": "e1908418",
   "metadata": {},
   "outputs": [
    {
     "name": "stdout",
     "output_type": "stream",
     "text": [
      "i'nin değeri 0\n",
      "i'nin değeri 1\n",
      "i'nin değeri 2\n",
      "i'nin değeri 3\n",
      "i'nin değeri 4\n",
      "i'nin değeri 5\n",
      "i'nin değeri 6\n",
      "i'nin değeri 7\n",
      "i'nin değeri 8\n",
      "i'nin değeri 9\n"
     ]
    }
   ],
   "source": [
    "i =0\n",
    "while (i < 10):\n",
    "    print(\"i'nin değeri\",i)\n",
    "    i +=1"
   ]
  },
  {
   "cell_type": "code",
   "execution_count": 9,
   "id": "8e042b66",
   "metadata": {},
   "outputs": [
    {
     "name": "stdout",
     "output_type": "stream",
     "text": [
      "SJSJSJSJSJSJSJSJSJSJSJSJSJSJSJSJ\n",
      "SJSJSJSJSJSJSJSJSJSJSJSJSJSJSJSJ\n",
      "SJSJSJSJSJSJSJSJSJSJSJSJSJSJSJSJ\n",
      "SJSJSJSJSJSJSJSJSJSJSJSJSJSJSJSJ\n",
      "SJSJSJSJSJSJSJSJSJSJSJSJSJSJSJSJ\n",
      "SJSJSJSJSJSJSJSJSJSJSJSJSJSJSJSJ\n",
      "SJSJSJSJSJSJSJSJSJSJSJSJSJSJSJSJ\n",
      "SJSJSJSJSJSJSJSJSJSJSJSJSJSJSJSJ\n",
      "SJSJSJSJSJSJSJSJSJSJSJSJSJSJSJSJ\n",
      "SJSJSJSJSJSJSJSJSJSJSJSJSJSJSJSJ\n",
      "SJSJSJSJSJSJSJSJSJSJSJSJSJSJSJSJ\n",
      "SJSJSJSJSJSJSJSJSJSJSJSJSJSJSJSJ\n",
      "SJSJSJSJSJSJSJSJSJSJSJSJSJSJSJSJ\n",
      "SJSJSJSJSJSJSJSJSJSJSJSJSJSJSJSJ\n",
      "SJSJSJSJSJSJSJSJSJSJSJSJSJSJSJSJ\n",
      "SJSJSJSJSJSJSJSJSJSJSJSJSJSJSJSJ\n",
      "SJSJSJSJSJSJSJSJSJSJSJSJSJSJSJSJ\n",
      "SJSJSJSJSJSJSJSJSJSJSJSJSJSJSJSJ\n",
      "SJSJSJSJSJSJSJSJSJSJSJSJSJSJSJSJ\n",
      "SJSJSJSJSJSJSJSJSJSJSJSJSJSJSJSJ\n",
      "SJSJSJSJSJSJSJSJSJSJSJSJSJSJSJSJ\n",
      "SJSJSJSJSJSJSJSJSJSJSJSJSJSJSJSJ\n",
      "SJSJSJSJSJSJSJSJSJSJSJSJSJSJSJSJ\n",
      "SJSJSJSJSJSJSJSJSJSJSJSJSJSJSJSJ\n",
      "SJSJSJSJSJSJSJSJSJSJSJSJSJSJSJSJ\n",
      "SJSJSJSJSJSJSJSJSJSJSJSJSJSJSJSJ\n",
      "SJSJSJSJSJSJSJSJSJSJSJSJSJSJSJSJ\n",
      "SJSJSJSJSJSJSJSJSJSJSJSJSJSJSJSJ\n",
      "SJSJSJSJSJSJSJSJSJSJSJSJSJSJSJSJ\n",
      "SJSJSJSJSJSJSJSJSJSJSJSJSJSJSJSJ\n",
      "SJSJSJSJSJSJSJSJSJSJSJSJSJSJSJSJ\n",
      "SJSJSJSJSJSJSJSJSJSJSJSJSJSJSJSJ\n",
      "SJSJSJSJSJSJSJSJSJSJSJSJSJSJSJSJ\n",
      "SJSJSJSJSJSJSJSJSJSJSJSJSJSJSJSJ\n",
      "SJSJSJSJSJSJSJSJSJSJSJSJSJSJSJSJ\n",
      "SJSJSJSJSJSJSJSJSJSJSJSJSJSJSJSJ\n",
      "SJSJSJSJSJSJSJSJSJSJSJSJSJSJSJSJ\n",
      "SJSJSJSJSJSJSJSJSJSJSJSJSJSJSJSJ\n",
      "SJSJSJSJSJSJSJSJSJSJSJSJSJSJSJSJ\n",
      "SJSJSJSJSJSJSJSJSJSJSJSJSJSJSJSJ\n"
     ]
    }
   ],
   "source": [
    "i =0\n",
    "while (i < 40):\n",
    "    print(\"SJSJSJSJSJSJSJSJSJSJSJSJSJSJSJSJ\")\n",
    "    i +=1"
   ]
  },
  {
   "cell_type": "code",
   "execution_count": 21,
   "id": "c22b958e",
   "metadata": {},
   "outputs": [
    {
     "name": "stdout",
     "output_type": "stream",
     "text": [
      "index:  0 liste elemanı : 1\n",
      "index:  1 liste elemanı : 2\n",
      "index:  2 liste elemanı : 3\n",
      "index:  3 liste elemanı : 4\n",
      "index:  4 liste elemanı : 5\n",
      "index:  5 liste elemanı : 6\n"
     ]
    }
   ],
   "source": [
    "liste=[1,2,3,4,5,6]\n",
    "index = 0\n",
    "while (index <len(liste)):\n",
    "    print(\"index: \",index,\"liste elemanı :\",liste[index])\n",
    "    index += 1"
   ]
  }
 ],
 "metadata": {
  "kernelspec": {
   "display_name": "Python 3 (ipykernel)",
   "language": "python",
   "name": "python3"
  },
  "language_info": {
   "codemirror_mode": {
    "name": "ipython",
    "version": 3
   },
   "file_extension": ".py",
   "mimetype": "text/x-python",
   "name": "python",
   "nbconvert_exporter": "python",
   "pygments_lexer": "ipython3",
   "version": "3.9.12"
  }
 },
 "nbformat": 4,
 "nbformat_minor": 5
}
