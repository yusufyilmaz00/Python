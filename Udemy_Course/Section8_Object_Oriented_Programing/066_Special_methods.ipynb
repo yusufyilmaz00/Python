{
 "cells": [
  {
   "cell_type": "code",
   "execution_count": 1,
   "id": "2fc1125c",
   "metadata": {},
   "outputs": [],
   "source": [
    "class Kitap():\n",
    "    pass"
   ]
  },
  {
   "cell_type": "code",
   "execution_count": 2,
   "id": "16616d27",
   "metadata": {},
   "outputs": [],
   "source": [
    "kitap = Kitap()"
   ]
  },
  {
   "cell_type": "code",
   "execution_count": 16,
   "id": "d22666b6",
   "metadata": {},
   "outputs": [
    {
     "name": "stdout",
     "output_type": "stream",
     "text": [
      "<__main__.Kitap object at 0x000001EFF97D4D90>\n"
     ]
    }
   ],
   "source": [
    "print(kitap) #  __init__ metodu çağırılıyor."
   ]
  },
  {
   "cell_type": "code",
   "execution_count": 17,
   "id": "c0d644ac",
   "metadata": {},
   "outputs": [
    {
     "name": "stdout",
     "output_type": "stream",
     "text": [
      "__len__ metodu çağırılacak ancak tanımlı değil.\n",
      "Bunu özellikle bizim tanımlamamız gerekiyor.\n"
     ]
    }
   ],
   "source": [
    "try:\n",
    "    len(kitap)\n",
    "except:\n",
    "    print(\"__len__ metodu çağırılacak ancak tanımlı değil.\"\n",
    "          \"\\nBunu özellikle bizim tanımlamamız gerekiyor.\")"
   ]
  },
  {
   "cell_type": "code",
   "execution_count": 18,
   "id": "686a8e72",
   "metadata": {},
   "outputs": [],
   "source": [
    "del kitap  # __del__ metodu"
   ]
  },
  {
   "cell_type": "code",
   "execution_count": 19,
   "id": "90b8d7e1",
   "metadata": {},
   "outputs": [],
   "source": [
    "class Kitap():\n",
    "    def __init__(self,isim,yazar,sayfa_sayısı,tür):\n",
    "        print(\"İnit Fonksiyonu\")\n",
    "        self.isim = isim\n",
    "        self.yazar = yazar\n",
    "        self.sayfa_sayısı= sayfa_sayısı\n",
    "        self.tür = tür\n",
    "    def __str__(self):\n",
    "        return \"İsim: {}\\nYazar: {}\\nSayfa Sayısı: {}\\nTür: {}\".format(self.isim,self.yazar,self.sayfa_sayısı,self.tür)\n",
    "    def __len__(self):\n",
    "        return self.sayfa_sayısı\n",
    "    def __del__(self):\n",
    "        print(\"Kitap Objesi siliniyorrr...........\")"
   ]
  },
  {
   "cell_type": "code",
   "execution_count": 20,
   "id": "aa063620",
   "metadata": {
    "scrolled": true
   },
   "outputs": [
    {
     "name": "stdout",
     "output_type": "stream",
     "text": [
      "İnit Fonksiyonu\n"
     ]
    }
   ],
   "source": [
    "kitap1 = Kitap(\"Kudüs\",\"Seyfeddin\",234,\"Tarih\")"
   ]
  },
  {
   "cell_type": "code",
   "execution_count": 21,
   "id": "3431246d",
   "metadata": {},
   "outputs": [
    {
     "name": "stdout",
     "output_type": "stream",
     "text": [
      "İsim: Kudüs\n",
      "Yazar: Seyfeddin\n",
      "Sayfa Sayısı: 234\n",
      "Tür: Tarih\n"
     ]
    }
   ],
   "source": [
    "print(kitap1)"
   ]
  },
  {
   "cell_type": "code",
   "execution_count": 22,
   "id": "0d8cb551",
   "metadata": {},
   "outputs": [
    {
     "data": {
      "text/plain": [
       "234"
      ]
     },
     "execution_count": 22,
     "metadata": {},
     "output_type": "execute_result"
    }
   ],
   "source": [
    "len(kitap1)"
   ]
  },
  {
   "cell_type": "code",
   "execution_count": 23,
   "id": "38a83211",
   "metadata": {},
   "outputs": [
    {
     "name": "stdout",
     "output_type": "stream",
     "text": [
      "Kitap Objesi siliniyorrr...........\n"
     ]
    }
   ],
   "source": [
    "del(kitap1)"
   ]
  },
  {
   "cell_type": "code",
   "execution_count": 24,
   "id": "5a2fae72",
   "metadata": {},
   "outputs": [
    {
     "ename": "NameError",
     "evalue": "name 'kitap1' is not defined",
     "output_type": "error",
     "traceback": [
      "\u001b[1;31m---------------------------------------------------------------------------\u001b[0m",
      "\u001b[1;31mNameError\u001b[0m                                 Traceback (most recent call last)",
      "Input \u001b[1;32mIn [24]\u001b[0m, in \u001b[0;36m<cell line: 1>\u001b[1;34m()\u001b[0m\n\u001b[1;32m----> 1\u001b[0m \u001b[38;5;28mprint\u001b[39m(\u001b[43mkitap1\u001b[49m)\n",
      "\u001b[1;31mNameError\u001b[0m: name 'kitap1' is not defined"
     ]
    }
   ],
   "source": [
    "print(kitap1) # hata verecek şuanda"
   ]
  }
 ],
 "metadata": {
  "kernelspec": {
   "display_name": "Python 3 (ipykernel)",
   "language": "python",
   "name": "python3"
  },
  "language_info": {
   "codemirror_mode": {
    "name": "ipython",
    "version": 3
   },
   "file_extension": ".py",
   "mimetype": "text/x-python",
   "name": "python",
   "nbconvert_exporter": "python",
   "pygments_lexer": "ipython3",
   "version": "3.9.12"
  }
 },
 "nbformat": 4,
 "nbformat_minor": 5
}
