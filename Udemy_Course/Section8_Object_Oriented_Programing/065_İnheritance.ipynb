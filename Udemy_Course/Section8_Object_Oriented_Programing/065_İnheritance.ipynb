{
 "cells": [
  {
   "cell_type": "code",
   "execution_count": 15,
   "id": "1daa9f28",
   "metadata": {},
   "outputs": [],
   "source": [
    "import time\n",
    "\n",
    "\n",
    "class Çalışan():\n",
    "    def __init__(self,isim,maaş,departman):\n",
    "        print(\"Çalışan sınıfının init fonksiyonu\")\n",
    "        self.isim = isim\n",
    "        self.maaş= maaş\n",
    "        self.departman = departman\n",
    "        \n",
    "    def showdata(self):\n",
    "        print(\"Çalışan sınıfının bilgileri...\")\n",
    "        time.sleep(1)\n",
    "        print(\"İsim: {}\\nMaaş: {}\\nDepartman: {}\\n\".format(self.isim,self.maaş,self.departman))\n",
    "    def dep_değiştir(self,yeni_departman):\n",
    "        self.departman = yeni_departman"
   ]
  },
  {
   "cell_type": "code",
   "execution_count": 16,
   "id": "7907ea73",
   "metadata": {},
   "outputs": [],
   "source": [
    "class Yönetici(Çalışan):\n",
    "    pass           "
   ]
  },
  {
   "cell_type": "code",
   "execution_count": 17,
   "id": "ae96d0b0",
   "metadata": {},
   "outputs": [
    {
     "name": "stdout",
     "output_type": "stream",
     "text": [
      "Çalışan sınıfının init fonksiyonu\n"
     ]
    }
   ],
   "source": [
    "yönetici = Yönetici(\"Yusuf\",3000,\"bİLİŞİM\")"
   ]
  },
  {
   "cell_type": "code",
   "execution_count": 18,
   "id": "b0e70f3c",
   "metadata": {},
   "outputs": [
    {
     "name": "stdout",
     "output_type": "stream",
     "text": [
      "Çalışan sınıfının bilgileri...\n",
      "İsim: Yusuf\n",
      "Maaş: 3000\n",
      "Departman: bİLİŞİM\n",
      "\n"
     ]
    }
   ],
   "source": [
    "yönetici.showdata()"
   ]
  },
  {
   "cell_type": "code",
   "execution_count": 19,
   "id": "c46a143e",
   "metadata": {},
   "outputs": [],
   "source": [
    "yönetici.dep_değiştir(\"İT Management\")"
   ]
  },
  {
   "cell_type": "code",
   "execution_count": 20,
   "id": "00524581",
   "metadata": {},
   "outputs": [
    {
     "name": "stdout",
     "output_type": "stream",
     "text": [
      "Çalışan sınıfının bilgileri...\n",
      "İsim: Yusuf\n",
      "Maaş: 3000\n",
      "Departman: İT Management\n",
      "\n"
     ]
    }
   ],
   "source": [
    "yönetici.showdata()"
   ]
  },
  {
   "cell_type": "code",
   "execution_count": 21,
   "id": "226c0035",
   "metadata": {},
   "outputs": [],
   "source": [
    "import time\n",
    "\n",
    "\n",
    "class Yönetici(Çalışan):\n",
    "    def __init__(self,isim,maaş,departman,kişi_sayısı):\n",
    "        print(\"Yönetici sınıfının init fonksiyonu\")\n",
    "        self.isim = isim\n",
    "        self.maaş= maaş\n",
    "        self.departman = departman\n",
    "        self.kişi_sayısı = kişi_sayısı\n",
    "        \n",
    "    def showdata(self):\n",
    "        print(\"Yönetici sınıfının bilgileri...\")\n",
    "        time.sleep(1)\n",
    "        print(\"İsim: {}\\nMaaş: {}\\nDepartman: {}\\nYönetilen kişi sayısı: {}\".format(self.isim,self.maaş,self.departman,self.kişi_sayısı))\n",
    "    def dep_değiştir(self,yeni_departman):\n",
    "        self.departman = yeni_departman\n",
    "    "
   ]
  },
  {
   "cell_type": "code",
   "execution_count": 22,
   "id": "991a7ce1",
   "metadata": {},
   "outputs": [
    {
     "name": "stdout",
     "output_type": "stream",
     "text": [
      "Yönetici sınıfının init fonksiyonu\n"
     ]
    }
   ],
   "source": [
    "yönetici = Yönetici(\"Meryemke\",4000,\"Muhasebe\",3)"
   ]
  },
  {
   "cell_type": "code",
   "execution_count": 23,
   "id": "0c7786fd",
   "metadata": {},
   "outputs": [],
   "source": [
    "class çilek():\n",
    "\n",
    "    def göster(self):\n",
    "        print(\"Ad: {}\\nMaaş: {}\\nNumara: {}\".format(self.ad,self.maaş,self.numara))"
   ]
  },
  {
   "cell_type": "code",
   "execution_count": 27,
   "id": "c633d984",
   "metadata": {},
   "outputs": [],
   "source": [
    "class işlem():\n",
    "    def __init__(self):\n",
    "        print(\"işlem sınıfı kullanılıyor.\")\n",
    "        self.numara = numara\n",
    "    def no_update(self,yeni_numara):\n",
    "        self.numara = yeni_numara\n",
    "    def zamyap(self,zam):\n",
    "        self.maaş += zam\n",
    "    def göster(self):\n",
    "        print(\"Yönetici sınıfının bilgileri...\")\n",
    "        time.sleep(1)\n",
    "        print(\"Name: {}\\nMaaş: {}\\nDepartman: {}\\nYönetilen kişi sayısı: {}\".format(self.isim,self.maaş,self.departman,self.kişi_sayısı))"
   ]
  },
  {
   "cell_type": "code",
   "execution_count": 28,
   "id": "31a56a60",
   "metadata": {},
   "outputs": [],
   "source": [
    "class işçi(çilek,işlem):\n",
    "    def __init__(self,ad,maaş,numara):\n",
    "        print(\"işçi sınıfı kullanılıyor.\")\n",
    "        self.numara = numara\n",
    "        self.ad = ad\n",
    "        self.maaş = maaş"
   ]
  },
  {
   "cell_type": "code",
   "execution_count": 29,
   "id": "84713634",
   "metadata": {},
   "outputs": [
    {
     "name": "stdout",
     "output_type": "stream",
     "text": [
      "işçi sınıfı kullanılıyor.\n"
     ]
    }
   ],
   "source": [
    "yeni_işçi = işçi(\"Selim\",3400,2122191)"
   ]
  },
  {
   "cell_type": "code",
   "execution_count": 30,
   "id": "c05bc87c",
   "metadata": {},
   "outputs": [],
   "source": [
    "yeni_işçi.no_update(76543)"
   ]
  },
  {
   "cell_type": "code",
   "execution_count": 31,
   "id": "287273d3",
   "metadata": {},
   "outputs": [],
   "source": [
    "yeni_işçi.zamyap(600)"
   ]
  },
  {
   "cell_type": "code",
   "execution_count": 32,
   "id": "cdb7dfdd",
   "metadata": {},
   "outputs": [
    {
     "data": {
      "text/plain": [
       "4000"
      ]
     },
     "execution_count": 32,
     "metadata": {},
     "output_type": "execute_result"
    }
   ],
   "source": [
    "yeni_işçi.maaş"
   ]
  },
  {
   "cell_type": "code",
   "execution_count": 33,
   "id": "9d88c374",
   "metadata": {},
   "outputs": [],
   "source": [
    "import time\n",
    "\n",
    "\n",
    "class Çalışan():\n",
    "    def __init__(self,isim,maaş,departman):\n",
    "        print(\"Çalışan sınıfının init fonksiyonu\")\n",
    "        self.isim = isim\n",
    "        self.maaş= maaş\n",
    "        self.departman = departman\n",
    "        \n",
    "    def showdata(self):\n",
    "        print(\"Çalışan sınıfının bilgileri...\")\n",
    "        time.sleep(1)\n",
    "        print(\"İsim: {}\\nMaaş: {}\\nDepartman: {}\\n\".format(self.isim,self.maaş,self.departman))\n",
    "    def dep_değiştir(self,yeni_departman):\n",
    "        self.departman = yeni_departman"
   ]
  },
  {
   "cell_type": "code",
   "execution_count": 34,
   "id": "bdac0976",
   "metadata": {},
   "outputs": [],
   "source": [
    "import time\n",
    "\n",
    "\n",
    "class Yönetici(Çalışan,işlem):\n",
    "    def __init__(self,isim,maaş,departman,kişi_sayısı):\n",
    "        super().__init__(isim,maaş,departman)\n",
    "        print(\"Yönetici sınıfının init fonksiyonu\")\n",
    "\n",
    "        self.kişi_sayısı = kişi_sayısı\n",
    "        \n",
    "#    def showdata(self):\n",
    "#        print(\"Yönetici sınıfının bilgileri...\")\n",
    "#        time.sleep(1)\n",
    "#        print(\"İsim: {}\\nMaaş: {}\\nDepartman: {}\\nYönetilen kişi sayısı: {}\".format(self.isim,self.maaş,self.departman,self.kişi_sayısı))\n",
    "    def dep_değiştir(self,yeni_departman):\n",
    "        self.departman = yeni_departman\n",
    "    "
   ]
  },
  {
   "cell_type": "code",
   "execution_count": 35,
   "id": "912b5f90",
   "metadata": {},
   "outputs": [
    {
     "name": "stdout",
     "output_type": "stream",
     "text": [
      "Çalışan sınıfının init fonksiyonu\n",
      "Yönetici sınıfının init fonksiyonu\n"
     ]
    }
   ],
   "source": [
    "adem = Yönetici(\"Melek\",3400,\"Okul\",6)"
   ]
  },
  {
   "cell_type": "code",
   "execution_count": 36,
   "id": "dbd991fa",
   "metadata": {},
   "outputs": [
    {
     "name": "stdout",
     "output_type": "stream",
     "text": [
      "Çalışan sınıfının bilgileri...\n",
      "İsim: Melek\n",
      "Maaş: 3400\n",
      "Departman: Okul\n",
      "\n"
     ]
    }
   ],
   "source": [
    "adem.showdata()"
   ]
  }
 ],
 "metadata": {
  "kernelspec": {
   "display_name": "Python 3 (ipykernel)",
   "language": "python",
   "name": "python3"
  },
  "language_info": {
   "codemirror_mode": {
    "name": "ipython",
    "version": 3
   },
   "file_extension": ".py",
   "mimetype": "text/x-python",
   "name": "python",
   "nbconvert_exporter": "python",
   "pygments_lexer": "ipython3",
   "version": "3.9.12"
  }
 },
 "nbformat": 4,
 "nbformat_minor": 5
}
