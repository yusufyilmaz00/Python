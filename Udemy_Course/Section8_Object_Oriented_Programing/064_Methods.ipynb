{
 "cells": [
  {
   "cell_type": "code",
   "execution_count": 1,
   "id": "4eeba617",
   "metadata": {},
   "outputs": [],
   "source": [
    "import time\n",
    "\n",
    "class Yazılımcı():\n",
    "    def __init__(self,isim,soyisim,numara,maaş):\n",
    "        self.isim = isim\n",
    "        self.soyisim = soyisim\n",
    "        self.numara = numara\n",
    "        self.maaş = maaş\n",
    "    def showdata(self):\n",
    "        print(\"\"\"\n",
    "        Yazılımcının özellikleri\n",
    "        \n",
    "        İsim: {}\n",
    "        \n",
    "        Soyisim: {}\n",
    "        \n",
    "        Numara: {}\n",
    "        \n",
    "        Maaş: {}\n",
    "        \"\"\".format(self.isim,self.soyisim,self.numara,self.maaş))\n",
    "        \n",
    "    def zamyap(self,zam):\n",
    "        self.maaş += zam\n",
    "        time.sleep(1)\n",
    "        print(\"Yeni maaş: {}\".format(self.maaş))\n",
    "    def num_update(self,yeni_numara):\n",
    "        time.sleep(1)       \n",
    "        print(\"Numara güncelleniyor...\")\n",
    "        self.numara = yeni_numara"
   ]
  },
  {
   "cell_type": "code",
   "execution_count": 2,
   "id": "755529e7",
   "metadata": {},
   "outputs": [],
   "source": [
    "yazılımcı = Yazılımcı(\"Yusuf\",\"Yılmaz\",123,30000)"
   ]
  },
  {
   "cell_type": "code",
   "execution_count": 3,
   "id": "99e3c971",
   "metadata": {},
   "outputs": [
    {
     "name": "stdout",
     "output_type": "stream",
     "text": [
      "\n",
      "        Yazılımcının özellikleri\n",
      "        \n",
      "        İsim: Yusuf\n",
      "        \n",
      "        Soyisim: Yılmaz\n",
      "        \n",
      "        Numara: 123\n",
      "        \n",
      "        Maaş: 30000\n",
      "        \n"
     ]
    }
   ],
   "source": [
    "yazılımcı.showdata()"
   ]
  },
  {
   "cell_type": "code",
   "execution_count": 4,
   "id": "8558edc0",
   "metadata": {},
   "outputs": [
    {
     "name": "stdout",
     "output_type": "stream",
     "text": [
      "Yeni maaş: 35000\n"
     ]
    }
   ],
   "source": [
    "yazılımcı.zamyap(5000)"
   ]
  },
  {
   "cell_type": "code",
   "execution_count": 5,
   "id": "6efe14b7",
   "metadata": {},
   "outputs": [
    {
     "name": "stdout",
     "output_type": "stream",
     "text": [
      "\n",
      "        Yazılımcının özellikleri\n",
      "        \n",
      "        İsim: Yusuf\n",
      "        \n",
      "        Soyisim: Yılmaz\n",
      "        \n",
      "        Numara: 123\n",
      "        \n",
      "        Maaş: 35000\n",
      "        \n"
     ]
    }
   ],
   "source": [
    "yazılımcı.showdata()\n"
   ]
  },
  {
   "cell_type": "code",
   "execution_count": 6,
   "id": "542b51db",
   "metadata": {},
   "outputs": [
    {
     "name": "stdout",
     "output_type": "stream",
     "text": [
      "Numara güncelleniyor...\n"
     ]
    }
   ],
   "source": [
    "yazılımcı.num_update(5456)"
   ]
  },
  {
   "cell_type": "code",
   "execution_count": 7,
   "id": "df38157c",
   "metadata": {},
   "outputs": [
    {
     "name": "stdout",
     "output_type": "stream",
     "text": [
      "\n",
      "        Yazılımcının özellikleri\n",
      "        \n",
      "        İsim: Yusuf\n",
      "        \n",
      "        Soyisim: Yılmaz\n",
      "        \n",
      "        Numara: 5456\n",
      "        \n",
      "        Maaş: 35000\n",
      "        \n"
     ]
    }
   ],
   "source": [
    "yazılımcı.showdata()"
   ]
  }
 ],
 "metadata": {
  "kernelspec": {
   "display_name": "Python 3 (ipykernel)",
   "language": "python",
   "name": "python3"
  },
  "language_info": {
   "codemirror_mode": {
    "name": "ipython",
    "version": 3
   },
   "file_extension": ".py",
   "mimetype": "text/x-python",
   "name": "python",
   "nbconvert_exporter": "python",
   "pygments_lexer": "ipython3",
   "version": "3.9.12"
  }
 },
 "nbformat": 4,
 "nbformat_minor": 5
}
