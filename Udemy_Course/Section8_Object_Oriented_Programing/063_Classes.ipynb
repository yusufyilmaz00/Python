{
 "cells": [
  {
   "cell_type": "code",
   "execution_count": 1,
   "id": "4a9d87cb",
   "metadata": {},
   "outputs": [],
   "source": [
    "class Araba():\n",
    "    model = \"Renault Megane\"\n",
    "    renk = \"Gümüş\"\n",
    "    beygir_gücü = 110\n",
    "    silindir = 4"
   ]
  },
  {
   "cell_type": "code",
   "execution_count": 2,
   "id": "b5e8ffb2",
   "metadata": {},
   "outputs": [],
   "source": [
    "araba1 = Araba()"
   ]
  },
  {
   "cell_type": "code",
   "execution_count": 3,
   "id": "70a90f14",
   "metadata": {},
   "outputs": [
    {
     "data": {
      "text/plain": [
       "<__main__.Araba at 0x280cca60f40>"
      ]
     },
     "execution_count": 3,
     "metadata": {},
     "output_type": "execute_result"
    }
   ],
   "source": [
    "araba1"
   ]
  },
  {
   "cell_type": "code",
   "execution_count": 4,
   "id": "edb629f5",
   "metadata": {},
   "outputs": [],
   "source": [
    "araba2 = Araba()"
   ]
  },
  {
   "cell_type": "code",
   "execution_count": 5,
   "id": "871c9a57",
   "metadata": {},
   "outputs": [
    {
     "data": {
      "text/plain": [
       "<__main__.Araba at 0x280cca9b3a0>"
      ]
     },
     "execution_count": 5,
     "metadata": {},
     "output_type": "execute_result"
    }
   ],
   "source": [
    "araba2"
   ]
  },
  {
   "cell_type": "code",
   "execution_count": 6,
   "id": "361f5f47",
   "metadata": {},
   "outputs": [
    {
     "data": {
      "text/plain": [
       "'Gümüş'"
      ]
     },
     "execution_count": 6,
     "metadata": {},
     "output_type": "execute_result"
    }
   ],
   "source": [
    "araba1.renk"
   ]
  },
  {
   "cell_type": "code",
   "execution_count": 7,
   "id": "0c264ffc",
   "metadata": {},
   "outputs": [
    {
     "data": {
      "text/plain": [
       "'Renault Megane'"
      ]
     },
     "execution_count": 7,
     "metadata": {},
     "output_type": "execute_result"
    }
   ],
   "source": [
    "araba2.model"
   ]
  },
  {
   "cell_type": "code",
   "execution_count": 8,
   "id": "26402619",
   "metadata": {},
   "outputs": [
    {
     "data": {
      "text/plain": [
       "'Renault Megane'"
      ]
     },
     "execution_count": 8,
     "metadata": {},
     "output_type": "execute_result"
    }
   ],
   "source": [
    "araba1.model"
   ]
  },
  {
   "cell_type": "code",
   "execution_count": 9,
   "id": "18cdc575",
   "metadata": {},
   "outputs": [
    {
     "data": {
      "text/plain": [
       "'Renault Megane'"
      ]
     },
     "execution_count": 9,
     "metadata": {},
     "output_type": "execute_result"
    }
   ],
   "source": [
    "Araba.model"
   ]
  },
  {
   "cell_type": "code",
   "execution_count": 10,
   "id": "ed6570d9",
   "metadata": {},
   "outputs": [
    {
     "data": {
      "text/plain": [
       "<function Araba.mro()>"
      ]
     },
     "execution_count": 10,
     "metadata": {},
     "output_type": "execute_result"
    }
   ],
   "source": [
    "Araba.mro"
   ]
  },
  {
   "cell_type": "code",
   "execution_count": 11,
   "id": "b0195a35",
   "metadata": {},
   "outputs": [
    {
     "data": {
      "text/plain": [
       "['__class__',\n",
       " '__delattr__',\n",
       " '__dict__',\n",
       " '__dir__',\n",
       " '__doc__',\n",
       " '__eq__',\n",
       " '__format__',\n",
       " '__ge__',\n",
       " '__getattribute__',\n",
       " '__gt__',\n",
       " '__hash__',\n",
       " '__init__',\n",
       " '__init_subclass__',\n",
       " '__le__',\n",
       " '__lt__',\n",
       " '__module__',\n",
       " '__ne__',\n",
       " '__new__',\n",
       " '__reduce__',\n",
       " '__reduce_ex__',\n",
       " '__repr__',\n",
       " '__setattr__',\n",
       " '__sizeof__',\n",
       " '__str__',\n",
       " '__subclasshook__',\n",
       " '__weakref__',\n",
       " 'beygir_gücü',\n",
       " 'model',\n",
       " 'renk',\n",
       " 'silindir']"
      ]
     },
     "execution_count": 11,
     "metadata": {},
     "output_type": "execute_result"
    }
   ],
   "source": [
    "dir(araba1)"
   ]
  },
  {
   "cell_type": "code",
   "execution_count": 23,
   "id": "28ff2147",
   "metadata": {},
   "outputs": [],
   "source": [
    "class Araba():\n",
    "    \n",
    "    def __init__(self,model = \"Bilgi Yok\",renk = \"Bilgi Yok\",beygir_gücü = 40,silindir = 2):\n",
    "        print(\"İnit fonksiyonu çağrıldı.\")\n",
    "        self.model = model\n",
    "        self.renk = renk\n",
    "        self.beygir_gücü = beygir_gücü\n",
    "        self.silindir = silindir"
   ]
  },
  {
   "cell_type": "code",
   "execution_count": 16,
   "id": "b20a5e12",
   "metadata": {},
   "outputs": [
    {
     "name": "stdout",
     "output_type": "stream",
     "text": [
      "İnit fonksiyonu çağrıldı.\n"
     ]
    }
   ],
   "source": [
    "araba1 = Araba(\"Renoult Megane\",\"Gümüş\",110,4)"
   ]
  },
  {
   "cell_type": "code",
   "execution_count": 17,
   "id": "586ea16c",
   "metadata": {},
   "outputs": [
    {
     "name": "stdout",
     "output_type": "stream",
     "text": [
      "İnit fonksiyonu çağrıldı.\n"
     ]
    }
   ],
   "source": [
    "araba2 = Araba(\"Mercedes\",\"Beyaz\",90,4)"
   ]
  },
  {
   "cell_type": "code",
   "execution_count": 18,
   "id": "9e428121",
   "metadata": {},
   "outputs": [
    {
     "data": {
      "text/plain": [
       "<__main__.Araba at 0x280cdecb670>"
      ]
     },
     "execution_count": 18,
     "metadata": {},
     "output_type": "execute_result"
    }
   ],
   "source": [
    "araba1"
   ]
  },
  {
   "cell_type": "code",
   "execution_count": 19,
   "id": "1a92df45",
   "metadata": {},
   "outputs": [
    {
     "data": {
      "text/plain": [
       "<__main__.Araba at 0x280cdecb0a0>"
      ]
     },
     "execution_count": 19,
     "metadata": {},
     "output_type": "execute_result"
    }
   ],
   "source": [
    "araba2"
   ]
  },
  {
   "cell_type": "code",
   "execution_count": 24,
   "id": "179e57c7",
   "metadata": {},
   "outputs": [
    {
     "name": "stdout",
     "output_type": "stream",
     "text": [
      "İnit fonksiyonu çağrıldı.\n"
     ]
    }
   ],
   "source": [
    "araba3= Araba(beygir_gücü= 155)"
   ]
  },
  {
   "cell_type": "code",
   "execution_count": 25,
   "id": "aed6f6b9",
   "metadata": {},
   "outputs": [
    {
     "data": {
      "text/plain": [
       "'Bilgi Yok'"
      ]
     },
     "execution_count": 25,
     "metadata": {},
     "output_type": "execute_result"
    }
   ],
   "source": [
    "araba3.model"
   ]
  },
  {
   "cell_type": "code",
   "execution_count": 26,
   "id": "4475477b",
   "metadata": {},
   "outputs": [
    {
     "data": {
      "text/plain": [
       "2"
      ]
     },
     "execution_count": 26,
     "metadata": {},
     "output_type": "execute_result"
    }
   ],
   "source": [
    "araba3.silindir"
   ]
  },
  {
   "cell_type": "code",
   "execution_count": 27,
   "id": "72e06f11",
   "metadata": {},
   "outputs": [
    {
     "data": {
      "text/plain": [
       "'Bilgi Yok'"
      ]
     },
     "execution_count": 27,
     "metadata": {},
     "output_type": "execute_result"
    }
   ],
   "source": [
    "araba3.renk"
   ]
  },
  {
   "cell_type": "code",
   "execution_count": 37,
   "id": "902201ec",
   "metadata": {},
   "outputs": [],
   "source": [
    "class PCH():\n",
    "    def __init__(self,işlemci=\"intel\",i_nesil= \"Bilgi yok\",ekran_kartı=\"Bilgi yok\",ram=\"Bilgi yok\",hafıza=\"Bilgi yok\"):\n",
    "        self.işlemci = işlemci\n",
    "        self.i_nesil = i_nesil\n",
    "        self.ekran_kartı = ekran_kartı\n",
    "        self.ram = ram\n",
    "        self.hafıza = hafıza\n"
   ]
  },
  {
   "cell_type": "code",
   "execution_count": 38,
   "id": "d66f5cc1",
   "metadata": {},
   "outputs": [],
   "source": [
    "casper = PCH(\"intel\",\"GTX 1660\",8,480)"
   ]
  },
  {
   "cell_type": "code",
   "execution_count": 59,
   "id": "5297adc7",
   "metadata": {},
   "outputs": [],
   "source": [
    "monster = PCH(işlemci= \"default\",i_nesil = \"6.nesil\",ekran_kartı =\"XT 6600\",ram =12)"
   ]
  },
  {
   "cell_type": "code",
   "execution_count": 56,
   "id": "ec7b653b",
   "metadata": {},
   "outputs": [
    {
     "data": {
      "text/plain": [
       "'default'"
      ]
     },
     "execution_count": 56,
     "metadata": {},
     "output_type": "execute_result"
    }
   ],
   "source": [
    "monster.işlemci"
   ]
  },
  {
   "cell_type": "code",
   "execution_count": 58,
   "id": "748a155e",
   "metadata": {},
   "outputs": [
    {
     "data": {
      "text/plain": [
       "'6.nesil'"
      ]
     },
     "execution_count": 58,
     "metadata": {},
     "output_type": "execute_result"
    }
   ],
   "source": [
    "monster.i_nesil"
   ]
  },
  {
   "cell_type": "code",
   "execution_count": 60,
   "id": "c31a7cda",
   "metadata": {},
   "outputs": [
    {
     "data": {
      "text/plain": [
       "'XT 6600'"
      ]
     },
     "execution_count": 60,
     "metadata": {},
     "output_type": "execute_result"
    }
   ],
   "source": [
    "monster.ekran_kartı"
   ]
  },
  {
   "cell_type": "code",
   "execution_count": 61,
   "id": "83c4d182",
   "metadata": {},
   "outputs": [
    {
     "data": {
      "text/plain": [
       "12"
      ]
     },
     "execution_count": 61,
     "metadata": {},
     "output_type": "execute_result"
    }
   ],
   "source": [
    "monster.ram\n"
   ]
  },
  {
   "cell_type": "code",
   "execution_count": 62,
   "id": "1d111369",
   "metadata": {},
   "outputs": [
    {
     "data": {
      "text/plain": [
       "'Bilgi yok'"
      ]
     },
     "execution_count": 62,
     "metadata": {},
     "output_type": "execute_result"
    }
   ],
   "source": [
    "monster.hafıza"
   ]
  }
 ],
 "metadata": {
  "kernelspec": {
   "display_name": "Python 3 (ipykernel)",
   "language": "python",
   "name": "python3"
  },
  "language_info": {
   "codemirror_mode": {
    "name": "ipython",
    "version": 3
   },
   "file_extension": ".py",
   "mimetype": "text/x-python",
   "name": "python",
   "nbconvert_exporter": "python",
   "pygments_lexer": "ipython3",
   "version": "3.9.12"
  }
 },
 "nbformat": 4,
 "nbformat_minor": 5
}
